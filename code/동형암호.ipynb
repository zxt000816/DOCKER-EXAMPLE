{
 "cells": [
  {
   "cell_type": "code",
   "execution_count": null,
   "metadata": {},
   "outputs": [],
   "source": [
    "!pip install syft"
   ]
  },
  {
   "cell_type": "code",
   "execution_count": null,
   "metadata": {},
   "outputs": [],
   "source": [
    "import syft as sy\n",
    "import torch as th\n",
    "import syft.frameworks.tenseal as ts\n",
    "\n",
    "# hook PyTorch to add extra functionalities like the ability to encrypt torch tensors\n",
    "hook = sy.TorchHook(th)\n",
    "\n",
    "# Generate CKKS public and secret keys\n",
    "public_keys, secret_key = ts.generate_ckks_keys()"
   ]
  }
 ],
 "metadata": {
  "kernelspec": {
   "display_name": "Python 3 (ipykernel)",
   "language": "python",
   "name": "python3"
  },
  "orig_nbformat": 4
 },
 "nbformat": 4,
 "nbformat_minor": 2
}
